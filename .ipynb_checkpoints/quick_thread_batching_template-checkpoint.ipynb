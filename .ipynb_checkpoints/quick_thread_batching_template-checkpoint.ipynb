{
 "cells": [
  {
   "cell_type": "code",
   "execution_count": 1,
   "metadata": {},
   "outputs": [
    {
     "name": "stdout",
     "output_type": "stream",
     "text": [
      "11 batches bounded by indexes as given [(0, 1000), (1000, 2000), (2000, 3000), (3000, 4000), (4000, 5000), (5000, 6000), (6000, 7000), (7000, 8000), (8000, 9000), (9000, 10000), (10000, 10009)]\n"
     ]
    }
   ],
   "source": [
    "data = list(range(10010))\n",
    "data_length = len(data)\n",
    "batch_size = 1000\n",
    "\n",
    "from math import ceil\n",
    "batch_count = ceil(data_length/batch_size)\n",
    "partitioning_indexes = [(lb,min([lb+batch_size, data_length-1])) for lb in range(0, data_length, batch_size)]\n",
    "print(batch_count, \"batches bounded by indexes as given\", partitioning_indexes)"
   ]
  },
  {
   "cell_type": "code",
   "execution_count": 2,
   "metadata": {},
   "outputs": [],
   "source": [
    "results = []\n",
    "def computation(input_data, lower_bound, upper_bound):\n",
    "    res = sum(input_data[lower_bound:upper_bound])\n",
    "    results.append(\n",
    "        {\n",
    "            (lower_bound, upper_bound): res\n",
    "        }\n",
    "    )"
   ]
  },
  {
   "cell_type": "code",
   "execution_count": 3,
   "metadata": {},
   "outputs": [],
   "source": [
    "import threading"
   ]
  },
  {
   "cell_type": "code",
   "execution_count": 4,
   "metadata": {},
   "outputs": [],
   "source": [
    "t = []\n",
    "for i in range(batch_count):\n",
    "    bounds = partitioning_indexes[i]\n",
    "    t.append(\n",
    "        threading.Thread(target=computation, kwargs = {\"input_data\": data, \"lower_bound\": bounds[0], \"upper_bound\": bounds[1]})\n",
    "    )"
   ]
  },
  {
   "cell_type": "code",
   "execution_count": 5,
   "metadata": {},
   "outputs": [
    {
     "data": {
      "text/plain": [
       "[<Thread(Thread-6, initial)>,\n",
       " <Thread(Thread-7, initial)>,\n",
       " <Thread(Thread-8, initial)>,\n",
       " <Thread(Thread-9, initial)>,\n",
       " <Thread(Thread-10, initial)>,\n",
       " <Thread(Thread-11, initial)>,\n",
       " <Thread(Thread-12, initial)>,\n",
       " <Thread(Thread-13, initial)>,\n",
       " <Thread(Thread-14, initial)>,\n",
       " <Thread(Thread-15, initial)>,\n",
       " <Thread(Thread-16, initial)>]"
      ]
     },
     "execution_count": 5,
     "metadata": {},
     "output_type": "execute_result"
    }
   ],
   "source": [
    "t"
   ]
  },
  {
   "cell_type": "code",
   "execution_count": 6,
   "metadata": {},
   "outputs": [],
   "source": [
    "for thread in t:\n",
    "    thread.start()"
   ]
  },
  {
   "cell_type": "code",
   "execution_count": 7,
   "metadata": {},
   "outputs": [
    {
     "name": "stdout",
     "output_type": "stream",
     "text": [
      "Do what you need to here\n"
     ]
    }
   ],
   "source": [
    "print(\"Do what you need to here\")"
   ]
  },
  {
   "cell_type": "code",
   "execution_count": 8,
   "metadata": {},
   "outputs": [],
   "source": [
    "for thread in t:\n",
    "    thread.join()"
   ]
  },
  {
   "cell_type": "code",
   "execution_count": 9,
   "metadata": {},
   "outputs": [
    {
     "data": {
      "text/plain": [
       "{(9000, 10000): 9499500}"
      ]
     },
     "execution_count": 9,
     "metadata": {},
     "output_type": "execute_result"
    }
   ],
   "source": [
    "# use your results\n",
    "#highest subsection sum\n",
    "sorted(results, key=lambda x: list(x.values())[0] ,reverse=True)[0]"
   ]
  },
  {
   "cell_type": "code",
   "execution_count": 10,
   "metadata": {},
   "outputs": [
    {
     "data": {
      "text/plain": [
       "50085036"
      ]
     },
     "execution_count": 10,
     "metadata": {},
     "output_type": "execute_result"
    }
   ],
   "source": [
    "# sum of all\n",
    "sum([list(x.values())[0] for x in results])"
   ]
  },
  {
   "cell_type": "code",
   "execution_count": null,
   "metadata": {},
   "outputs": [],
   "source": []
  }
 ],
 "metadata": {
  "kernelspec": {
   "display_name": "Python 3",
   "language": "python",
   "name": "python3"
  },
  "language_info": {
   "codemirror_mode": {
    "name": "ipython",
    "version": 3
   },
   "file_extension": ".py",
   "mimetype": "text/x-python",
   "name": "python",
   "nbconvert_exporter": "python",
   "pygments_lexer": "ipython3",
   "version": "3.8.5"
  }
 },
 "nbformat": 4,
 "nbformat_minor": 4
}
